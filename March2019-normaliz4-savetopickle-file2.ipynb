{
 "cells": [
  {
   "cell_type": "code",
   "execution_count": 18,
   "metadata": {},
   "outputs": [],
   "source": [
    "import json\n",
    "import pandas as pd\n",
    "import os\n",
    "import matplotlib.pyplot as plt\n",
    "import datetime\n",
    "%matplotlib inline"
   ]
  },
  {
   "cell_type": "code",
   "execution_count": 19,
   "metadata": {},
   "outputs": [
    {
     "name": "stdout",
     "output_type": "stream",
     "text": [
      "dict_keys(['home', 'away', 'drives', 'scrsummary', 'weather', 'media', 'yl', 'qtr', 'note', 'down', 'togo', 'redzone', 'clock', 'posteam', 'stadium'])\n",
      "0\n"
     ]
    }
   ],
   "source": [
    "# Evaluation\n",
    "\n",
    "with open ('2009091300.txt') as file:\n",
    "    data=json.load(file)\n",
    "    print(data.keys())\n",
    "    print(data['togo'])"
   ]
  },
  {
   "cell_type": "code",
   "execution_count": 20,
   "metadata": {},
   "outputs": [],
   "source": [
    "mydatadict={}\n",
    "mydatadict['hometeam']=[]\n",
    "mydatadict['awayteam']=[]\n",
    "mydatadict['hometeam_score']=[]\n",
    "mydatadict['awayteam_score']=[]\n",
    "mydatadict['gamedate']=[]\n",
    "mydatadict['gamenumber']=[]\n",
    "\n",
    "\n",
    "for gametype in ['homestats_','awaystats_']:\n",
    "    for key in ['totfd', 'totyds', 'pyds', 'ryds', 'pen', 'penyds', 'trnovr', 'pt', 'ptyds', 'ptavg', 'top']:\n",
    "        mydatadict[gametype + key]=[]\n",
    "\n",
    "mydatadict['homestats_totfd']=[]\n",
    "mydatadict['awaystats_totfd']=[]\n",
    "\n",
    "filenames=[filename for filename in os.listdir() if filename.endswith(\".txt\")]\n",
    "\n",
    "for filename in filenames:    \n",
    "    with open (filename) as file:\n",
    "        data=json.load(file)\n",
    "        mydatadict['gamedate'].append(datetime.date(int(filename[:4]),int(filename[4:6]),int(filename[6:8])))\n",
    "        mydatadict['gamenumber'].append(filename[:-4][-2:])\n",
    "        mydatadict['hometeam'].append(data['home']['abbr'])\n",
    "        mydatadict['awayteam'].append(data['away']['abbr'])\n",
    "        mydatadict['hometeam_score'].append(data['home']['score']['T'])\n",
    "        mydatadict['awayteam_score'].append(data['away']['score']['T'])\n",
    "        \n",
    "        for key in ['totfd', 'totyds', 'pyds', 'ryds', 'pen', 'penyds',\n",
    "                    'trnovr', 'pt', 'ptyds', 'ptavg', 'top']:\n",
    "            mydatadict['homestats_'+ key].append(data['home']['stats']['team'][key])\n",
    "            mydatadict['awaystats_'+ key].append(data['away']['stats']['team'][key])\n"
   ]
  },
  {
   "cell_type": "code",
   "execution_count": 21,
   "metadata": {},
   "outputs": [],
   "source": [
    "df=pd.DataFrame(mydatadict)"
   ]
  },
  {
   "cell_type": "code",
   "execution_count": 22,
   "metadata": {},
   "outputs": [],
   "source": [
    "games2018seasondf=df[df.gamedate.between(datetime.date(2018, 9, 6),datetime.date(2018, 12, 30))]\n",
    "games2018seasondf.to_pickle('games2018seasondf.pickle')\n",
    "\n",
    "games2017seasondf=df[df.gamedate.between(datetime.date(2017, 9, 7),datetime.date(2017, 12, 31))]\n",
    "games2017seasondf.to_pickle('games2017seasondf.pickle')\n",
    "\n",
    "games2016seasondf=df[df.gamedate.between(datetime.date(2016, 9, 8),datetime.date(2017, 1, 1))]\n",
    "games2016seasondf.to_pickle('games2016seasondf.pickle')\n",
    "\n",
    "games2015seasondf=df[df.gamedate.between(datetime.date(2015, 9, 10),datetime.date(2016, 1, 3))]\n",
    "games2015seasondf.to_pickle('games2015seasondf.pickle')\n",
    "\n",
    "games2014seasondf=df[df.gamedate.between(datetime.date(2014, 9, 4),datetime.date(2014, 12, 28))]\n",
    "games2014seasondf.to_pickle('games2014seasondf.pickle')\n",
    "\n",
    "games2013seasondf=df[df.gamedate.between(datetime.date(2013, 9, 5),datetime.date(2013, 12, 29))]\n",
    "games2013seasondf.to_pickle('games2013seasondf.pickle')\n",
    "\n",
    "games2012seasondf=df[df.gamedate.between(datetime.date(2012, 9, 5),datetime.date(2012, 12, 30))]\n",
    "games2012seasondf.to_pickle('games2012seasondf.pickle')\n",
    "\n",
    "games2011seasondf=df[df.gamedate.between(datetime.date(2011, 9, 8),datetime.date(2012, 1, 1))]\n",
    "games2011seasondf.to_pickle('games2011seasondf.pickle')"
   ]
  },
  {
   "cell_type": "code",
   "execution_count": null,
   "metadata": {},
   "outputs": [],
   "source": []
  },
  {
   "cell_type": "code",
   "execution_count": null,
   "metadata": {},
   "outputs": [],
   "source": []
  },
  {
   "cell_type": "code",
   "execution_count": null,
   "metadata": {},
   "outputs": [],
   "source": []
  }
 ],
 "metadata": {
  "kernelspec": {
   "display_name": "Python 3",
   "language": "python",
   "name": "python3"
  },
  "language_info": {
   "codemirror_mode": {
    "name": "ipython",
    "version": 3
   },
   "file_extension": ".py",
   "mimetype": "text/x-python",
   "name": "python",
   "nbconvert_exporter": "python",
   "pygments_lexer": "ipython3",
   "version": "3.6.5"
  }
 },
 "nbformat": 4,
 "nbformat_minor": 2
}
