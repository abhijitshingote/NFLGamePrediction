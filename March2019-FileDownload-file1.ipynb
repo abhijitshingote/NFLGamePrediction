{
 "cells": [
  {
   "cell_type": "code",
   "execution_count": 8,
   "metadata": {},
   "outputs": [],
   "source": [
    "import requests\n",
    "import json\n",
    "import time,datetime"
   ]
  },
  {
   "cell_type": "code",
   "execution_count": 9,
   "metadata": {},
   "outputs": [],
   "source": [
    "sundays=[]\n",
    "mondays=[]\n",
    "thursdays=[]\n",
    "saturdays=[]\n",
    "for year in reversed(range(2011,2014)):\n",
    "    for month in (9,10,11,12,1,2):\n",
    "        for date in range(1,32):\n",
    "            try:\n",
    "                if datetime.date(year,month,date).weekday()==6:\n",
    "                    sundays.append(str(year)+(str(month)).zfill(2)+(str(date)).zfill(2))\n",
    "                elif datetime.date(year,month,date).weekday()==0:\n",
    "                    mondays.append(str(year)+(str(month)).zfill(2)+(str(date)).zfill(2))\n",
    "                elif datetime.date(year,month,date).weekday()==3:\n",
    "                    thursdays.append(str(year)+(str(month)).zfill(2)+(str(date)).zfill(2))\n",
    "                elif datetime.date(year,month,date).weekday()==5:\n",
    "                    saturdays.append(str(year)+(str(month)).zfill(2)+(str(date)).zfill(2))\n",
    "                    \n",
    "            except:\n",
    "                continue"
   ]
  },
  {
   "cell_type": "code",
   "execution_count": 10,
   "metadata": {},
   "outputs": [],
   "source": [
    "gameurls={}\n",
    "for gamedate in sundays+mondays+thursdays+saturdays:\n",
    "    gameurls[gamedate]=[]\n",
    "    for _x in range(16):\n",
    "        if _x<10:\n",
    "            x='0'+str(_x)\n",
    "        else:\n",
    "            x=str(_x)\n",
    "\n",
    "        url='http://www.nfl.com/liveupdate/game-center/' + gamedate + x + '/' + gamedate + x + '_gtd.json'\n",
    "        gameurls[gamedate].append(url)"
   ]
  },
  {
   "cell_type": "code",
   "execution_count": null,
   "metadata": {},
   "outputs": [
    {
     "name": "stdout",
     "output_type": "stream",
     "text": [
      "File Saved -  2013090800.txt\n",
      "File Saved -  2013090801.txt\n",
      "File Saved -  2013090802.txt\n",
      "File Saved -  2013090803.txt\n",
      "File Saved -  2013090804.txt\n",
      "File Saved -  2013090805.txt\n",
      "File Saved -  2013090806.txt\n",
      "File Saved -  2013090807.txt\n",
      "File Saved -  2013090808.txt\n",
      "File Saved -  2013090809.txt\n",
      "File Saved -  2013090810.txt\n",
      "File Saved -  2013090811.txt\n",
      "File Saved -  2013090812.txt\n",
      "File Saved -  2013091500.txt\n",
      "File Saved -  2013091501.txt\n",
      "File Saved -  2013091502.txt\n",
      "File Saved -  2013091503.txt\n",
      "File Saved -  2013091504.txt\n",
      "File Saved -  2013091505.txt\n",
      "File Saved -  2013091506.txt\n",
      "File Saved -  2013091507.txt\n",
      "File Saved -  2013091508.txt\n",
      "File Saved -  2013091509.txt\n",
      "File Saved -  2013091510.txt\n",
      "File Saved -  2013091511.txt\n",
      "File Saved -  2013091512.txt\n",
      "File Saved -  2013091513.txt\n",
      "File Saved -  2013092200.txt\n",
      "File Saved -  2013092201.txt\n",
      "File Saved -  2013092202.txt\n",
      "File Saved -  2013092203.txt\n",
      "File Saved -  2013092204.txt\n",
      "File Saved -  2013092205.txt\n",
      "File Saved -  2013092206.txt\n",
      "File Saved -  2013092207.txt\n",
      "File Saved -  2013092208.txt\n",
      "File Saved -  2013092209.txt\n",
      "File Saved -  2013092210.txt\n",
      "File Saved -  2013092211.txt\n",
      "File Saved -  2013092212.txt\n",
      "File Saved -  2013092213.txt\n",
      "File Saved -  2013092900.txt\n",
      "File Saved -  2013092901.txt\n",
      "File Saved -  2013092902.txt\n",
      "File Saved -  2013092903.txt\n",
      "File Saved -  2013092904.txt\n",
      "File Saved -  2013092905.txt\n"
     ]
    }
   ],
   "source": [
    "listofgameurls=[eachgameurl for gamedayurls in gameurls.values() for eachgameurl in gamedayurls]\n",
    "for gameurl in listofgameurls:\n",
    "    response=requests.get(gameurl)\n",
    "    if response.status_code==200:\n",
    "        gamedata=response.json()\n",
    "        storedata=gamedata[list(gamedata.keys())[0]]\n",
    "        filenametouse=list(gamedata.keys())[0] + '.txt'\n",
    "        with open(filenametouse,'w') as filename:\n",
    "            json.dump(storedata,filename)\n",
    "        print('File Saved - ',filenametouse)\n",
    "        time.sleep(30)"
   ]
  },
  {
   "cell_type": "code",
   "execution_count": null,
   "metadata": {},
   "outputs": [],
   "source": []
  }
 ],
 "metadata": {
  "kernelspec": {
   "display_name": "Python 3",
   "language": "python",
   "name": "python3"
  },
  "language_info": {
   "codemirror_mode": {
    "name": "ipython",
    "version": 3
   },
   "file_extension": ".py",
   "mimetype": "text/x-python",
   "name": "python",
   "nbconvert_exporter": "python",
   "pygments_lexer": "ipython3",
   "version": "3.6.5"
  }
 },
 "nbformat": 4,
 "nbformat_minor": 2
}
