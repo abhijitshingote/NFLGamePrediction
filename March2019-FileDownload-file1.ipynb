{
 "cells": [
  {
   "cell_type": "code",
   "execution_count": 20,
   "metadata": {},
   "outputs": [],
   "source": [
    "import requests\n",
    "import json\n",
    "import time,datetime"
   ]
  },
  {
   "cell_type": "code",
   "execution_count": 21,
   "metadata": {},
   "outputs": [],
   "source": [
    "sundays=[]\n",
    "mondays=[]\n",
    "thursdays=[]\n",
    "saturdays=[]\n",
    "for year in [2014,2009,2010]:\n",
    "    for month in (9,10,11,12,1,2):\n",
    "        for date in range(1,32):\n",
    "            try:\n",
    "                if datetime.date(year,month,date).weekday()==6:\n",
    "                    sundays.append(str(year)+(str(month)).zfill(2)+(str(date)).zfill(2))\n",
    "                elif datetime.date(year,month,date).weekday()==0:\n",
    "                    mondays.append(str(year)+(str(month)).zfill(2)+(str(date)).zfill(2))\n",
    "                elif datetime.date(year,month,date).weekday()==3:\n",
    "                    thursdays.append(str(year)+(str(month)).zfill(2)+(str(date)).zfill(2))\n",
    "                elif datetime.date(year,month,date).weekday()==5:\n",
    "                    saturdays.append(str(year)+(str(month)).zfill(2)+(str(date)).zfill(2))\n",
    "                    \n",
    "            except:\n",
    "                continue"
   ]
  },
  {
   "cell_type": "code",
   "execution_count": 22,
   "metadata": {},
   "outputs": [],
   "source": [
    "gameurls={}\n",
    "for gamedate in sundays+mondays+thursdays+saturdays:\n",
    "    gameurls[gamedate]=[]\n",
    "    for _x in range(16):\n",
    "        if _x<10:\n",
    "            x='0'+str(_x)\n",
    "        else:\n",
    "            x=str(_x)\n",
    "\n",
    "        url='http://www.nfl.com/liveupdate/game-center/' + gamedate + x + '/' + gamedate + x + '_gtd.json'\n",
    "        gameurls[gamedate].append(url)"
   ]
  },
  {
   "cell_type": "code",
   "execution_count": null,
   "metadata": {},
   "outputs": [
    {
     "name": "stdout",
     "output_type": "stream",
     "text": [
      "File Saved -  2014090700.txt\n",
      "File Saved -  2014090701.txt\n",
      "File Saved -  2014090702.txt\n",
      "File Saved -  2014090703.txt\n",
      "File Saved -  2014090704.txt\n",
      "File Saved -  2014090705.txt\n",
      "File Saved -  2014090706.txt\n",
      "File Saved -  2014090707.txt\n",
      "File Saved -  2014090708.txt\n",
      "File Saved -  2014090709.txt\n",
      "File Saved -  2014090710.txt\n"
     ]
    }
   ],
   "source": [
    "listofgameurls=[eachgameurl for gamedayurls in gameurls.values() for eachgameurl in gamedayurls]\n",
    "for gameurl in listofgameurls:\n",
    "    response=requests.get(gameurl)\n",
    "    if response.status_code==200:\n",
    "        gamedata=response.json()\n",
    "        storedata=gamedata[list(gamedata.keys())[0]]\n",
    "        filenametouse=list(gamedata.keys())[0] + '.txt'\n",
    "        with open(filenametouse,'w') as filename:\n",
    "            json.dump(storedata,filename)\n",
    "        print('File Saved - ',filenametouse)\n",
    "        time.sleep(30)"
   ]
  },
  {
   "cell_type": "code",
   "execution_count": null,
   "metadata": {},
   "outputs": [],
   "source": []
  }
 ],
 "metadata": {
  "kernelspec": {
   "display_name": "Python 3",
   "language": "python",
   "name": "python3"
  },
  "language_info": {
   "codemirror_mode": {
    "name": "ipython",
    "version": 3
   },
   "file_extension": ".py",
   "mimetype": "text/x-python",
   "name": "python",
   "nbconvert_exporter": "python",
   "pygments_lexer": "ipython3",
   "version": "3.6.5"
  }
 },
 "nbformat": 4,
 "nbformat_minor": 2
}
