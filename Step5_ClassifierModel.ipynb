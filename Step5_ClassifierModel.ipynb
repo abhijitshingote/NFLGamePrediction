{
 "cells": [
  {
   "cell_type": "code",
   "execution_count": 1,
   "metadata": {},
   "outputs": [],
   "source": [
    "import pandas as pd\n",
    "import numpy as np\n",
    "import seaborn as sns\n",
    "import matplotlib.pyplot as plt\n",
    "from sklearn.model_selection import train_test_split,cross_val_score,GridSearchCV\n",
    "from sklearn.linear_model import LogisticRegression,RidgeClassifier\n",
    "from sklearn.naive_bayes import GaussianNB\n",
    "from sklearn.preprocessing import StandardScaler\n",
    "from sklearn.tree import DecisionTreeClassifier\n",
    "from sklearn.ensemble import RandomForestClassifier\n",
    "from sklearn.svm import SVC\n",
    "from sklearn.neural_network import MLPClassifier\n",
    "%matplotlib inline"
   ]
  },
  {
   "cell_type": "code",
   "execution_count": 2,
   "metadata": {},
   "outputs": [],
   "source": [
    "rawdf=pd.read_pickle('bigtrainingdataset.pickle')\n",
    "df=rawdf.drop(['key','myteam','oppteam','gamedate','myteam_curscore','oppteam_curscore'],axis=1)"
   ]
  },
  {
   "cell_type": "code",
   "execution_count": 3,
   "metadata": {},
   "outputs": [
    {
     "data": {
      "text/html": [
       "<div>\n",
       "<style scoped>\n",
       "    .dataframe tbody tr th:only-of-type {\n",
       "        vertical-align: middle;\n",
       "    }\n",
       "\n",
       "    .dataframe tbody tr th {\n",
       "        vertical-align: top;\n",
       "    }\n",
       "\n",
       "    .dataframe thead th {\n",
       "        text-align: right;\n",
       "    }\n",
       "</style>\n",
       "<table border=\"1\" class=\"dataframe\">\n",
       "  <thead>\n",
       "    <tr style=\"text-align: right;\">\n",
       "      <th></th>\n",
       "      <th>myteam_prvwins</th>\n",
       "      <th>oppteam_prvwins</th>\n",
       "      <th>homegame</th>\n",
       "      <th>result</th>\n",
       "      <th>myteam_scores</th>\n",
       "      <th>oppteam_scores</th>\n",
       "      <th>myteam_trnovr</th>\n",
       "      <th>oppteam_trnovr</th>\n",
       "      <th>myteam_top</th>\n",
       "      <th>oppteam_top</th>\n",
       "      <th>myteam_pyds</th>\n",
       "      <th>oppteam_pyds</th>\n",
       "      <th>myteam_ryds</th>\n",
       "      <th>oppteam_ryds</th>\n",
       "      <th>myteam_penyds</th>\n",
       "      <th>oppteam_penyds</th>\n",
       "      <th>myteam_ptyds</th>\n",
       "      <th>oppteam_ptyds</th>\n",
       "    </tr>\n",
       "  </thead>\n",
       "  <tbody>\n",
       "    <tr>\n",
       "      <th>138</th>\n",
       "      <td>[0, 0, 0, 0]</td>\n",
       "      <td>[0, 1, 1, 1]</td>\n",
       "      <td>False</td>\n",
       "      <td>0</td>\n",
       "      <td>[17, 3, 14, 16]</td>\n",
       "      <td>[27, 19, 30, 23]</td>\n",
       "      <td>[2, 1, 2, 2]</td>\n",
       "      <td>[1, 0, 0, 3]</td>\n",
       "      <td>[26.5, 28.733333333333334, 35.083333333333336,...</td>\n",
       "      <td>[32.583333333333336, 32.71666666666667, 32.916...</td>\n",
       "      <td>[286, 258, 230, 150]</td>\n",
       "      <td>[408, 330, 246, 241]</td>\n",
       "      <td>[54, 7, 126, 182]</td>\n",
       "      <td>[46, 123, 146, 45]</td>\n",
       "      <td>[57, 51, 82, 67]</td>\n",
       "      <td>[53, 15, 40, 25]</td>\n",
       "      <td>[344, 331, 234, 259]</td>\n",
       "      <td>[140, 80, 52, 211]</td>\n",
       "    </tr>\n",
       "    <tr>\n",
       "      <th>140</th>\n",
       "      <td>[0, 0, 1, 1]</td>\n",
       "      <td>[0, 1, 0, 0]</td>\n",
       "      <td>True</td>\n",
       "      <td>1</td>\n",
       "      <td>[22, 20, 22, 13]</td>\n",
       "      <td>[13, 31, 28, 23]</td>\n",
       "      <td>[2, 4, 3, 3]</td>\n",
       "      <td>[4, 1, 1, 1]</td>\n",
       "      <td>[32.333333333333336, 25.683333333333334, 28.93...</td>\n",
       "      <td>[34.31666666666667, 22.183333333333334, 35.45,...</td>\n",
       "      <td>[204, 294, 160, 240]</td>\n",
       "      <td>[265, 273, 299, 399]</td>\n",
       "      <td>[30, 109, 90, 56]</td>\n",
       "      <td>[27, 18, 64, 58]</td>\n",
       "      <td>[22, 38, 30, 90]</td>\n",
       "      <td>[55, 101, 46, 55]</td>\n",
       "      <td>[197, 218, 199, 320]</td>\n",
       "      <td>[183, 192, 99, 137]</td>\n",
       "    </tr>\n",
       "  </tbody>\n",
       "</table>\n",
       "</div>"
      ],
      "text/plain": [
       "    myteam_prvwins oppteam_prvwins  homegame  result     myteam_scores  \\\n",
       "138   [0, 0, 0, 0]    [0, 1, 1, 1]     False       0   [17, 3, 14, 16]   \n",
       "140   [0, 0, 1, 1]    [0, 1, 0, 0]      True       1  [22, 20, 22, 13]   \n",
       "\n",
       "       oppteam_scores myteam_trnovr oppteam_trnovr  \\\n",
       "138  [27, 19, 30, 23]  [2, 1, 2, 2]   [1, 0, 0, 3]   \n",
       "140  [13, 31, 28, 23]  [2, 4, 3, 3]   [4, 1, 1, 1]   \n",
       "\n",
       "                                            myteam_top  \\\n",
       "138  [26.5, 28.733333333333334, 35.083333333333336,...   \n",
       "140  [32.333333333333336, 25.683333333333334, 28.93...   \n",
       "\n",
       "                                           oppteam_top           myteam_pyds  \\\n",
       "138  [32.583333333333336, 32.71666666666667, 32.916...  [286, 258, 230, 150]   \n",
       "140  [34.31666666666667, 22.183333333333334, 35.45,...  [204, 294, 160, 240]   \n",
       "\n",
       "             oppteam_pyds        myteam_ryds        oppteam_ryds  \\\n",
       "138  [408, 330, 246, 241]  [54, 7, 126, 182]  [46, 123, 146, 45]   \n",
       "140  [265, 273, 299, 399]  [30, 109, 90, 56]    [27, 18, 64, 58]   \n",
       "\n",
       "        myteam_penyds     oppteam_penyds          myteam_ptyds  \\\n",
       "138  [57, 51, 82, 67]   [53, 15, 40, 25]  [344, 331, 234, 259]   \n",
       "140  [22, 38, 30, 90]  [55, 101, 46, 55]  [197, 218, 199, 320]   \n",
       "\n",
       "           oppteam_ptyds  \n",
       "138   [140, 80, 52, 211]  \n",
       "140  [183, 192, 99, 137]  "
      ]
     },
     "execution_count": 3,
     "metadata": {},
     "output_type": "execute_result"
    }
   ],
   "source": [
    "df.head(2)"
   ]
  },
  {
   "cell_type": "code",
   "execution_count": 4,
   "metadata": {},
   "outputs": [],
   "source": [
    "def GetAdjustedDF(df,adj_factor):\n",
    "    \n",
    "    def AdjustedStats (statlist,adj_factor) :\n",
    "        if len(statlist)==3:\n",
    "            return np.matmul(np.array(statlist),np.array([1+adj_factor,1,1-adj_factor]))\n",
    "        elif len(statlist)==4:\n",
    "            return np.matmul(np.array(statlist),np.array([1+adj_factor,1+adj_factor/2,1-adj_factor/2,1-adj_factor]))\n",
    "    \n",
    "    cols_to_transform=['myteam_prvwins', 'oppteam_prvwins','myteam_scores', 'oppteam_scores', 'myteam_trnovr', 'oppteam_trnovr',\n",
    "       'myteam_top', 'oppteam_top', 'myteam_pyds', 'oppteam_pyds',\n",
    "       'myteam_ryds', 'oppteam_ryds', 'myteam_penyds', 'oppteam_penyds',\n",
    "       'myteam_ptyds', 'oppteam_ptyds']\n",
    "\n",
    "    adjusteddf=df.copy()\n",
    "    for col in cols_to_transform:\n",
    "        adjusteddf[col]=df[col].apply(AdjustedStats,adj_factor=adj_factor)\n",
    "        \n",
    "    return adjusteddf"
   ]
  },
  {
   "cell_type": "code",
   "execution_count": 5,
   "metadata": {},
   "outputs": [],
   "source": [
    "def Get_traintest(df):\n",
    "    X,y=df.drop(['result','myteam_penyds','oppteam_penyds',\n",
    "             'myteam_prvwins','oppteam_scores',\n",
    "#              'myteam_trnovr','oppteam_trnovr','myteam_top','oppteam_top'\n",
    "            ],axis=1),df[['result']]\n",
    "    X=pd.DataFrame(StandardScaler().fit_transform(X),columns=X.columns)\n",
    "    X_train,X_test,y_train,y_test=train_test_split(X,y,test_size=0.35,shuffle=True)\n",
    "    return (X_train,X_test,y_train,y_test)"
   ]
  },
  {
   "cell_type": "code",
   "execution_count": 6,
   "metadata": {},
   "outputs": [],
   "source": [
    "mydictofmodels=[\n",
    "    {\n",
    "        'estimator':LogisticRegression(),\n",
    "        'name':'LogisticRegression',\n",
    "        'parameters':{\n",
    "            'solver':['lbfgs','liblinear'],\n",
    "            'C':[1.0,0.8,0.5,0.3]\n",
    "        }\n",
    "    },\n",
    "        {\n",
    "        'estimator':RidgeClassifier(),\n",
    "        'name':'Ridge Classifier',\n",
    "        'parameters':{\n",
    "            'alpha':[1.0,2.0,10.0,0.5],\n",
    "            'solver' : ['auto', 'svd', 'cholesky', 'lsqr', 'sparse_cg', 'sag']\n",
    "        }\n",
    "    },\n",
    "        {\n",
    "        'estimator':GaussianNB(),\n",
    "        'name':'Gaussian Naive Bayes',\n",
    "        'parameters':{\n",
    "#             'solver':['lbfgs','linear']\n",
    "        }\n",
    "    },\n",
    "            {\n",
    "        'estimator':DecisionTreeClassifier(),\n",
    "        'name':'Decision Tree',\n",
    "        'parameters':{\n",
    "            'min_samples_split':[2,5,10,20,40],\n",
    "            'min_samples_leaf' :[20,40,60,100],\n",
    "            'max_depth':[3,5,10,25]\n",
    "        }\n",
    "    },\n",
    "            {\n",
    "        'estimator':RandomForestClassifier(),\n",
    "        'name':'Random Forest',\n",
    "        'parameters':{\n",
    "            'min_samples_split':[2,5,10,20,40],\n",
    "            'min_samples_leaf' :[20,40,60,100],\n",
    "            'n_estimators':[100]\n",
    "        }\n",
    "    },\n",
    "    {\n",
    "        'estimator':SVC(),\n",
    "        'name':'SVC',\n",
    "        'parameters':{\n",
    "            'gamma':['auto','scale']\n",
    "        }\n",
    "    }\n",
    "    \n",
    "]"
   ]
  },
  {
   "cell_type": "code",
   "execution_count": 7,
   "metadata": {},
   "outputs": [
    {
     "name": "stderr",
     "output_type": "stream",
     "text": [
      "/Users/abhijitshingote/miniconda3/lib/python3.6/site-packages/sklearn/preprocessing/data.py:617: DataConversionWarning: Data with input dtype bool, float64 were all converted to float64 by StandardScaler.\n",
      "  return self.partial_fit(X, y)\n",
      "/Users/abhijitshingote/miniconda3/lib/python3.6/site-packages/sklearn/base.py:462: DataConversionWarning: Data with input dtype bool, float64 were all converted to float64 by StandardScaler.\n",
      "  return self.fit(X, **fit_params).transform(X)\n",
      "[Parallel(n_jobs=1)]: Using backend SequentialBackend with 1 concurrent workers.\n",
      "[Parallel(n_jobs=1)]: Done  40 out of  40 | elapsed:    0.2s finished\n",
      "[Parallel(n_jobs=1)]: Using backend SequentialBackend with 1 concurrent workers.\n"
     ]
    },
    {
     "name": "stdout",
     "output_type": "stream",
     "text": [
      "Fitting 5 folds for each of 8 candidates, totalling 40 fits\n",
      "Fitting 5 folds for each of 24 candidates, totalling 120 fits\n"
     ]
    },
    {
     "name": "stderr",
     "output_type": "stream",
     "text": [
      "[Parallel(n_jobs=1)]: Done 120 out of 120 | elapsed:    0.5s finished\n",
      "[Parallel(n_jobs=1)]: Using backend SequentialBackend with 1 concurrent workers.\n",
      "[Parallel(n_jobs=1)]: Done   5 out of   5 | elapsed:    0.0s finished\n",
      "[Parallel(n_jobs=1)]: Using backend SequentialBackend with 1 concurrent workers.\n"
     ]
    },
    {
     "name": "stdout",
     "output_type": "stream",
     "text": [
      "Fitting 5 folds for each of 1 candidates, totalling 5 fits\n",
      "Fitting 5 folds for each of 80 candidates, totalling 400 fits\n"
     ]
    },
    {
     "name": "stderr",
     "output_type": "stream",
     "text": [
      "[Parallel(n_jobs=1)]: Done 400 out of 400 | elapsed:    1.6s finished\n",
      "/Users/abhijitshingote/miniconda3/lib/python3.6/site-packages/sklearn/model_selection/_search.py:841: DeprecationWarning: The default of the `iid` parameter will change from True to False in version 0.22 and will be removed in 0.24. This will change numeric results when test-set sizes are unequal.\n",
      "  DeprecationWarning)\n",
      "[Parallel(n_jobs=1)]: Using backend SequentialBackend with 1 concurrent workers.\n"
     ]
    },
    {
     "name": "stdout",
     "output_type": "stream",
     "text": [
      "Fitting 5 folds for each of 20 candidates, totalling 100 fits\n"
     ]
    },
    {
     "name": "stderr",
     "output_type": "stream",
     "text": [
      "[Parallel(n_jobs=1)]: Done 100 out of 100 | elapsed:   11.1s finished\n",
      "/Users/abhijitshingote/miniconda3/lib/python3.6/site-packages/sklearn/model_selection/_search.py:841: DeprecationWarning: The default of the `iid` parameter will change from True to False in version 0.22 and will be removed in 0.24. This will change numeric results when test-set sizes are unequal.\n",
      "  DeprecationWarning)\n",
      "[Parallel(n_jobs=1)]: Using backend SequentialBackend with 1 concurrent workers.\n"
     ]
    },
    {
     "name": "stdout",
     "output_type": "stream",
     "text": [
      "Fitting 5 folds for each of 2 candidates, totalling 10 fits\n"
     ]
    },
    {
     "name": "stderr",
     "output_type": "stream",
     "text": [
      "[Parallel(n_jobs=1)]: Done  10 out of  10 | elapsed:    0.3s finished\n",
      "/Users/abhijitshingote/miniconda3/lib/python3.6/site-packages/sklearn/preprocessing/data.py:617: DataConversionWarning: Data with input dtype bool, float64 were all converted to float64 by StandardScaler.\n",
      "  return self.partial_fit(X, y)\n",
      "/Users/abhijitshingote/miniconda3/lib/python3.6/site-packages/sklearn/base.py:462: DataConversionWarning: Data with input dtype bool, float64 were all converted to float64 by StandardScaler.\n",
      "  return self.fit(X, **fit_params).transform(X)\n",
      "[Parallel(n_jobs=1)]: Using backend SequentialBackend with 1 concurrent workers.\n"
     ]
    },
    {
     "name": "stdout",
     "output_type": "stream",
     "text": [
      "Fitting 5 folds for each of 8 candidates, totalling 40 fits\n"
     ]
    },
    {
     "name": "stderr",
     "output_type": "stream",
     "text": [
      "[Parallel(n_jobs=1)]: Done  40 out of  40 | elapsed:    0.3s finished\n",
      "[Parallel(n_jobs=1)]: Using backend SequentialBackend with 1 concurrent workers.\n"
     ]
    },
    {
     "name": "stdout",
     "output_type": "stream",
     "text": [
      "Fitting 5 folds for each of 24 candidates, totalling 120 fits\n"
     ]
    },
    {
     "name": "stderr",
     "output_type": "stream",
     "text": [
      "[Parallel(n_jobs=1)]: Done 120 out of 120 | elapsed:    0.7s finished\n",
      "[Parallel(n_jobs=1)]: Using backend SequentialBackend with 1 concurrent workers.\n",
      "[Parallel(n_jobs=1)]: Done   5 out of   5 | elapsed:    0.0s finished\n",
      "[Parallel(n_jobs=1)]: Using backend SequentialBackend with 1 concurrent workers.\n"
     ]
    },
    {
     "name": "stdout",
     "output_type": "stream",
     "text": [
      "Fitting 5 folds for each of 1 candidates, totalling 5 fits\n",
      "Fitting 5 folds for each of 80 candidates, totalling 400 fits\n"
     ]
    },
    {
     "name": "stderr",
     "output_type": "stream",
     "text": [
      "[Parallel(n_jobs=1)]: Done 400 out of 400 | elapsed:    2.1s finished\n",
      "[Parallel(n_jobs=1)]: Using backend SequentialBackend with 1 concurrent workers.\n"
     ]
    },
    {
     "name": "stdout",
     "output_type": "stream",
     "text": [
      "Fitting 5 folds for each of 20 candidates, totalling 100 fits\n"
     ]
    },
    {
     "name": "stderr",
     "output_type": "stream",
     "text": [
      "[Parallel(n_jobs=1)]: Done 100 out of 100 | elapsed:   10.9s finished\n",
      "[Parallel(n_jobs=1)]: Using backend SequentialBackend with 1 concurrent workers.\n"
     ]
    },
    {
     "name": "stdout",
     "output_type": "stream",
     "text": [
      "Fitting 5 folds for each of 2 candidates, totalling 10 fits\n"
     ]
    },
    {
     "name": "stderr",
     "output_type": "stream",
     "text": [
      "[Parallel(n_jobs=1)]: Done  10 out of  10 | elapsed:    0.3s finished\n",
      "/Users/abhijitshingote/miniconda3/lib/python3.6/site-packages/sklearn/preprocessing/data.py:617: DataConversionWarning: Data with input dtype bool, float64 were all converted to float64 by StandardScaler.\n",
      "  return self.partial_fit(X, y)\n",
      "/Users/abhijitshingote/miniconda3/lib/python3.6/site-packages/sklearn/base.py:462: DataConversionWarning: Data with input dtype bool, float64 were all converted to float64 by StandardScaler.\n",
      "  return self.fit(X, **fit_params).transform(X)\n",
      "[Parallel(n_jobs=1)]: Using backend SequentialBackend with 1 concurrent workers.\n"
     ]
    },
    {
     "name": "stdout",
     "output_type": "stream",
     "text": [
      "Fitting 5 folds for each of 8 candidates, totalling 40 fits\n",
      "Fitting 5 folds for each of 24 candidates, totalling 120 fits\n"
     ]
    },
    {
     "name": "stderr",
     "output_type": "stream",
     "text": [
      "[Parallel(n_jobs=1)]: Done  40 out of  40 | elapsed:    0.2s finished\n",
      "[Parallel(n_jobs=1)]: Using backend SequentialBackend with 1 concurrent workers.\n",
      "[Parallel(n_jobs=1)]: Done 120 out of 120 | elapsed:    0.5s finished\n",
      "[Parallel(n_jobs=1)]: Using backend SequentialBackend with 1 concurrent workers.\n",
      "[Parallel(n_jobs=1)]: Done   5 out of   5 | elapsed:    0.0s finished\n",
      "[Parallel(n_jobs=1)]: Using backend SequentialBackend with 1 concurrent workers.\n"
     ]
    },
    {
     "name": "stdout",
     "output_type": "stream",
     "text": [
      "Fitting 5 folds for each of 1 candidates, totalling 5 fits\n",
      "Fitting 5 folds for each of 80 candidates, totalling 400 fits\n"
     ]
    },
    {
     "name": "stderr",
     "output_type": "stream",
     "text": [
      "[Parallel(n_jobs=1)]: Done 400 out of 400 | elapsed:    1.7s finished\n",
      "[Parallel(n_jobs=1)]: Using backend SequentialBackend with 1 concurrent workers.\n"
     ]
    },
    {
     "name": "stdout",
     "output_type": "stream",
     "text": [
      "Fitting 5 folds for each of 20 candidates, totalling 100 fits\n"
     ]
    },
    {
     "name": "stderr",
     "output_type": "stream",
     "text": [
      "[Parallel(n_jobs=1)]: Done 100 out of 100 | elapsed:   10.5s finished\n",
      "[Parallel(n_jobs=1)]: Using backend SequentialBackend with 1 concurrent workers.\n"
     ]
    },
    {
     "name": "stdout",
     "output_type": "stream",
     "text": [
      "Fitting 5 folds for each of 2 candidates, totalling 10 fits\n"
     ]
    },
    {
     "name": "stderr",
     "output_type": "stream",
     "text": [
      "[Parallel(n_jobs=1)]: Done  10 out of  10 | elapsed:    0.3s finished\n",
      "/Users/abhijitshingote/miniconda3/lib/python3.6/site-packages/sklearn/preprocessing/data.py:617: DataConversionWarning: Data with input dtype bool, float64 were all converted to float64 by StandardScaler.\n",
      "  return self.partial_fit(X, y)\n",
      "/Users/abhijitshingote/miniconda3/lib/python3.6/site-packages/sklearn/base.py:462: DataConversionWarning: Data with input dtype bool, float64 were all converted to float64 by StandardScaler.\n",
      "  return self.fit(X, **fit_params).transform(X)\n",
      "[Parallel(n_jobs=1)]: Using backend SequentialBackend with 1 concurrent workers.\n"
     ]
    },
    {
     "name": "stdout",
     "output_type": "stream",
     "text": [
      "Fitting 5 folds for each of 8 candidates, totalling 40 fits\n"
     ]
    },
    {
     "name": "stderr",
     "output_type": "stream",
     "text": [
      "[Parallel(n_jobs=1)]: Done  40 out of  40 | elapsed:    0.2s finished\n",
      "/Users/abhijitshingote/miniconda3/lib/python3.6/site-packages/sklearn/model_selection/_search.py:841: DeprecationWarning: The default of the `iid` parameter will change from True to False in version 0.22 and will be removed in 0.24. This will change numeric results when test-set sizes are unequal.\n",
      "  DeprecationWarning)\n",
      "[Parallel(n_jobs=1)]: Using backend SequentialBackend with 1 concurrent workers.\n"
     ]
    },
    {
     "name": "stdout",
     "output_type": "stream",
     "text": [
      "Fitting 5 folds for each of 24 candidates, totalling 120 fits\n"
     ]
    },
    {
     "name": "stderr",
     "output_type": "stream",
     "text": [
      "[Parallel(n_jobs=1)]: Done 120 out of 120 | elapsed:    0.6s finished\n",
      "[Parallel(n_jobs=1)]: Using backend SequentialBackend with 1 concurrent workers.\n",
      "[Parallel(n_jobs=1)]: Done   5 out of   5 | elapsed:    0.0s finished\n",
      "[Parallel(n_jobs=1)]: Using backend SequentialBackend with 1 concurrent workers.\n"
     ]
    },
    {
     "name": "stdout",
     "output_type": "stream",
     "text": [
      "Fitting 5 folds for each of 1 candidates, totalling 5 fits\n",
      "Fitting 5 folds for each of 80 candidates, totalling 400 fits\n"
     ]
    },
    {
     "name": "stderr",
     "output_type": "stream",
     "text": [
      "[Parallel(n_jobs=1)]: Done 400 out of 400 | elapsed:    1.9s finished\n",
      "[Parallel(n_jobs=1)]: Using backend SequentialBackend with 1 concurrent workers.\n"
     ]
    },
    {
     "name": "stdout",
     "output_type": "stream",
     "text": [
      "Fitting 5 folds for each of 20 candidates, totalling 100 fits\n"
     ]
    },
    {
     "name": "stderr",
     "output_type": "stream",
     "text": [
      "[Parallel(n_jobs=1)]: Done 100 out of 100 | elapsed:   11.7s finished\n",
      "/Users/abhijitshingote/miniconda3/lib/python3.6/site-packages/sklearn/model_selection/_search.py:841: DeprecationWarning: The default of the `iid` parameter will change from True to False in version 0.22 and will be removed in 0.24. This will change numeric results when test-set sizes are unequal.\n",
      "  DeprecationWarning)\n",
      "[Parallel(n_jobs=1)]: Using backend SequentialBackend with 1 concurrent workers.\n"
     ]
    },
    {
     "name": "stdout",
     "output_type": "stream",
     "text": [
      "Fitting 5 folds for each of 2 candidates, totalling 10 fits\n"
     ]
    },
    {
     "name": "stderr",
     "output_type": "stream",
     "text": [
      "[Parallel(n_jobs=1)]: Done  10 out of  10 | elapsed:    0.3s finished\n",
      "/Users/abhijitshingote/miniconda3/lib/python3.6/site-packages/sklearn/preprocessing/data.py:617: DataConversionWarning: Data with input dtype bool, float64 were all converted to float64 by StandardScaler.\n",
      "  return self.partial_fit(X, y)\n",
      "/Users/abhijitshingote/miniconda3/lib/python3.6/site-packages/sklearn/base.py:462: DataConversionWarning: Data with input dtype bool, float64 were all converted to float64 by StandardScaler.\n",
      "  return self.fit(X, **fit_params).transform(X)\n",
      "[Parallel(n_jobs=1)]: Using backend SequentialBackend with 1 concurrent workers.\n"
     ]
    },
    {
     "name": "stdout",
     "output_type": "stream",
     "text": [
      "Fitting 5 folds for each of 8 candidates, totalling 40 fits\n",
      "Fitting 5 folds for each of 24 candidates, totalling 120 fits\n"
     ]
    },
    {
     "name": "stderr",
     "output_type": "stream",
     "text": [
      "[Parallel(n_jobs=1)]: Done  40 out of  40 | elapsed:    0.2s finished\n",
      "[Parallel(n_jobs=1)]: Using backend SequentialBackend with 1 concurrent workers.\n",
      "[Parallel(n_jobs=1)]: Done 120 out of 120 | elapsed:    0.5s finished\n",
      "[Parallel(n_jobs=1)]: Using backend SequentialBackend with 1 concurrent workers.\n",
      "[Parallel(n_jobs=1)]: Done   5 out of   5 | elapsed:    0.0s finished\n",
      "[Parallel(n_jobs=1)]: Using backend SequentialBackend with 1 concurrent workers.\n"
     ]
    },
    {
     "name": "stdout",
     "output_type": "stream",
     "text": [
      "Fitting 5 folds for each of 1 candidates, totalling 5 fits\n",
      "Fitting 5 folds for each of 80 candidates, totalling 400 fits\n"
     ]
    },
    {
     "name": "stderr",
     "output_type": "stream",
     "text": [
      "[Parallel(n_jobs=1)]: Done 400 out of 400 | elapsed:    1.8s finished\n",
      "[Parallel(n_jobs=1)]: Using backend SequentialBackend with 1 concurrent workers.\n"
     ]
    },
    {
     "name": "stdout",
     "output_type": "stream",
     "text": [
      "Fitting 5 folds for each of 20 candidates, totalling 100 fits\n"
     ]
    },
    {
     "name": "stderr",
     "output_type": "stream",
     "text": [
      "[Parallel(n_jobs=1)]: Done 100 out of 100 | elapsed:   11.2s finished\n",
      "[Parallel(n_jobs=1)]: Using backend SequentialBackend with 1 concurrent workers.\n"
     ]
    },
    {
     "name": "stdout",
     "output_type": "stream",
     "text": [
      "Fitting 5 folds for each of 2 candidates, totalling 10 fits\n"
     ]
    },
    {
     "name": "stderr",
     "output_type": "stream",
     "text": [
      "[Parallel(n_jobs=1)]: Done  10 out of  10 | elapsed:    0.3s finished\n",
      "/Users/abhijitshingote/miniconda3/lib/python3.6/site-packages/sklearn/preprocessing/data.py:617: DataConversionWarning: Data with input dtype bool, float64 were all converted to float64 by StandardScaler.\n",
      "  return self.partial_fit(X, y)\n",
      "/Users/abhijitshingote/miniconda3/lib/python3.6/site-packages/sklearn/base.py:462: DataConversionWarning: Data with input dtype bool, float64 were all converted to float64 by StandardScaler.\n",
      "  return self.fit(X, **fit_params).transform(X)\n",
      "[Parallel(n_jobs=1)]: Using backend SequentialBackend with 1 concurrent workers.\n"
     ]
    },
    {
     "name": "stdout",
     "output_type": "stream",
     "text": [
      "Fitting 5 folds for each of 8 candidates, totalling 40 fits\n",
      "Fitting 5 folds for each of 24 candidates, totalling 120 fits\n"
     ]
    },
    {
     "name": "stderr",
     "output_type": "stream",
     "text": [
      "[Parallel(n_jobs=1)]: Done  40 out of  40 | elapsed:    0.2s finished\n",
      "[Parallel(n_jobs=1)]: Using backend SequentialBackend with 1 concurrent workers.\n",
      "[Parallel(n_jobs=1)]: Done 120 out of 120 | elapsed:    0.5s finished\n",
      "[Parallel(n_jobs=1)]: Using backend SequentialBackend with 1 concurrent workers.\n",
      "[Parallel(n_jobs=1)]: Done   5 out of   5 | elapsed:    0.0s finished\n",
      "[Parallel(n_jobs=1)]: Using backend SequentialBackend with 1 concurrent workers.\n"
     ]
    },
    {
     "name": "stdout",
     "output_type": "stream",
     "text": [
      "Fitting 5 folds for each of 1 candidates, totalling 5 fits\n",
      "Fitting 5 folds for each of 80 candidates, totalling 400 fits\n"
     ]
    },
    {
     "name": "stderr",
     "output_type": "stream",
     "text": [
      "[Parallel(n_jobs=1)]: Done 400 out of 400 | elapsed:    1.8s finished\n",
      "[Parallel(n_jobs=1)]: Using backend SequentialBackend with 1 concurrent workers.\n"
     ]
    },
    {
     "name": "stdout",
     "output_type": "stream",
     "text": [
      "Fitting 5 folds for each of 20 candidates, totalling 100 fits\n"
     ]
    },
    {
     "name": "stderr",
     "output_type": "stream",
     "text": [
      "[Parallel(n_jobs=1)]: Done 100 out of 100 | elapsed:   11.5s finished\n",
      "[Parallel(n_jobs=1)]: Using backend SequentialBackend with 1 concurrent workers.\n"
     ]
    },
    {
     "name": "stdout",
     "output_type": "stream",
     "text": [
      "Fitting 5 folds for each of 2 candidates, totalling 10 fits\n"
     ]
    },
    {
     "name": "stderr",
     "output_type": "stream",
     "text": [
      "[Parallel(n_jobs=1)]: Done  10 out of  10 | elapsed:    0.3s finished\n"
     ]
    }
   ],
   "source": [
    "modelnames=[]\n",
    "modelscores=[]\n",
    "modelbestparams=[]\n",
    "adj_factor_list=[]\n",
    "\n",
    "for adj_factor in [0,0.1,0.2,0.3,0.4,0.5]:\n",
    "    adjdf=GetAdjustedDF(df=df,adj_factor=adj_factor)\n",
    "    X_train,X_test,y_train,y_test=Get_traintest(adjdf)\n",
    "    for model in mydictofmodels:\n",
    "        gsmodel=GridSearchCV(model['estimator'],param_grid=model['parameters'],cv=5,verbose=True)\n",
    "        gsmodel.fit(X_train,np.array(y_train).ravel())\n",
    "        modelnames.append(model['name'])\n",
    "        modelscores.append(gsmodel.score(X_test,y_test))\n",
    "        modelbestparams.append(gsmodel.best_params_)\n",
    "        adj_factor_list.append(adj_factor)\n"
   ]
  },
  {
   "cell_type": "code",
   "execution_count": 8,
   "metadata": {},
   "outputs": [
    {
     "data": {
      "text/html": [
       "<div>\n",
       "<style scoped>\n",
       "    .dataframe tbody tr th:only-of-type {\n",
       "        vertical-align: middle;\n",
       "    }\n",
       "\n",
       "    .dataframe tbody tr th {\n",
       "        vertical-align: top;\n",
       "    }\n",
       "\n",
       "    .dataframe thead th {\n",
       "        text-align: right;\n",
       "    }\n",
       "</style>\n",
       "<table border=\"1\" class=\"dataframe\">\n",
       "  <thead>\n",
       "    <tr style=\"text-align: right;\">\n",
       "      <th></th>\n",
       "      <th>modelname</th>\n",
       "      <th>scores</th>\n",
       "      <th>bestparams</th>\n",
       "      <th>adj_factor</th>\n",
       "    </tr>\n",
       "  </thead>\n",
       "  <tbody>\n",
       "    <tr>\n",
       "      <th>4</th>\n",
       "      <td>Random Forest</td>\n",
       "      <td>0.665962</td>\n",
       "      <td>{'min_samples_leaf': 20, 'min_samples_split': ...</td>\n",
       "      <td>0.0</td>\n",
       "    </tr>\n",
       "    <tr>\n",
       "      <th>2</th>\n",
       "      <td>Gaussian Naive Bayes</td>\n",
       "      <td>0.651163</td>\n",
       "      <td>{}</td>\n",
       "      <td>0.0</td>\n",
       "    </tr>\n",
       "    <tr>\n",
       "      <th>34</th>\n",
       "      <td>Random Forest</td>\n",
       "      <td>0.651163</td>\n",
       "      <td>{'min_samples_leaf': 60, 'min_samples_split': ...</td>\n",
       "      <td>0.5</td>\n",
       "    </tr>\n",
       "    <tr>\n",
       "      <th>31</th>\n",
       "      <td>Ridge Classifier</td>\n",
       "      <td>0.651163</td>\n",
       "      <td>{'alpha': 10.0, 'solver': 'auto'}</td>\n",
       "      <td>0.5</td>\n",
       "    </tr>\n",
       "    <tr>\n",
       "      <th>30</th>\n",
       "      <td>LogisticRegression</td>\n",
       "      <td>0.651163</td>\n",
       "      <td>{'C': 1.0, 'solver': 'liblinear'}</td>\n",
       "      <td>0.5</td>\n",
       "    </tr>\n",
       "    <tr>\n",
       "      <th>18</th>\n",
       "      <td>LogisticRegression</td>\n",
       "      <td>0.646934</td>\n",
       "      <td>{'C': 1.0, 'solver': 'lbfgs'}</td>\n",
       "      <td>0.3</td>\n",
       "    </tr>\n",
       "    <tr>\n",
       "      <th>19</th>\n",
       "      <td>Ridge Classifier</td>\n",
       "      <td>0.646934</td>\n",
       "      <td>{'alpha': 10.0, 'solver': 'auto'}</td>\n",
       "      <td>0.3</td>\n",
       "    </tr>\n",
       "    <tr>\n",
       "      <th>8</th>\n",
       "      <td>Gaussian Naive Bayes</td>\n",
       "      <td>0.644820</td>\n",
       "      <td>{}</td>\n",
       "      <td>0.1</td>\n",
       "    </tr>\n",
       "    <tr>\n",
       "      <th>10</th>\n",
       "      <td>Random Forest</td>\n",
       "      <td>0.640592</td>\n",
       "      <td>{'min_samples_leaf': 40, 'min_samples_split': ...</td>\n",
       "      <td>0.1</td>\n",
       "    </tr>\n",
       "    <tr>\n",
       "      <th>1</th>\n",
       "      <td>Ridge Classifier</td>\n",
       "      <td>0.640592</td>\n",
       "      <td>{'alpha': 1.0, 'solver': 'sparse_cg'}</td>\n",
       "      <td>0.0</td>\n",
       "    </tr>\n",
       "  </tbody>\n",
       "</table>\n",
       "</div>"
      ],
      "text/plain": [
       "               modelname    scores  \\\n",
       "4          Random Forest  0.665962   \n",
       "2   Gaussian Naive Bayes  0.651163   \n",
       "34         Random Forest  0.651163   \n",
       "31      Ridge Classifier  0.651163   \n",
       "30    LogisticRegression  0.651163   \n",
       "18    LogisticRegression  0.646934   \n",
       "19      Ridge Classifier  0.646934   \n",
       "8   Gaussian Naive Bayes  0.644820   \n",
       "10         Random Forest  0.640592   \n",
       "1       Ridge Classifier  0.640592   \n",
       "\n",
       "                                           bestparams  adj_factor  \n",
       "4   {'min_samples_leaf': 20, 'min_samples_split': ...         0.0  \n",
       "2                                                  {}         0.0  \n",
       "34  {'min_samples_leaf': 60, 'min_samples_split': ...         0.5  \n",
       "31                  {'alpha': 10.0, 'solver': 'auto'}         0.5  \n",
       "30                  {'C': 1.0, 'solver': 'liblinear'}         0.5  \n",
       "18                      {'C': 1.0, 'solver': 'lbfgs'}         0.3  \n",
       "19                  {'alpha': 10.0, 'solver': 'auto'}         0.3  \n",
       "8                                                  {}         0.1  \n",
       "10  {'min_samples_leaf': 40, 'min_samples_split': ...         0.1  \n",
       "1               {'alpha': 1.0, 'solver': 'sparse_cg'}         0.0  "
      ]
     },
     "execution_count": 8,
     "metadata": {},
     "output_type": "execute_result"
    }
   ],
   "source": [
    "resultsdf=pd.DataFrame({'modelname':modelnames,\n",
    "              'scores':modelscores,\n",
    "              'bestparams':modelbestparams,\n",
    "              'adj_factor':adj_factor_list})\n",
    "resultsdf.sort_values(['scores'],ascending=False).head(10)"
   ]
  },
  {
   "cell_type": "code",
   "execution_count": null,
   "metadata": {},
   "outputs": [],
   "source": [
    "# mlpmodel=MLPClassifier(solver='adam', alpha=1e-5,\n",
    "#                        hidden_layer_sizes=(5,10,5), early_stopping=False,random_state=1,max_iter=1000,verbose=True,learning_rate_init=0.001)\n",
    "# mlpmodel.fit(X_train,np.array(y_train).ravel())\n",
    "# mlpmodel.score(X_train,y_train),mlpmodel.score(X_test,y_test)"
   ]
  },
  {
   "cell_type": "code",
   "execution_count": null,
   "metadata": {},
   "outputs": [],
   "source": []
  }
 ],
 "metadata": {
  "kernelspec": {
   "display_name": "Python 3",
   "language": "python",
   "name": "python3"
  },
  "language_info": {
   "codemirror_mode": {
    "name": "ipython",
    "version": 3
   },
   "file_extension": ".py",
   "mimetype": "text/x-python",
   "name": "python",
   "nbconvert_exporter": "python",
   "pygments_lexer": "ipython3",
   "version": "3.6.5"
  }
 },
 "nbformat": 4,
 "nbformat_minor": 2
}
