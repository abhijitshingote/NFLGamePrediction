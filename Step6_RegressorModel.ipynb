{
 "cells": [
  {
   "cell_type": "code",
   "execution_count": 1,
   "metadata": {},
   "outputs": [],
   "source": [
    "import pandas as pd\n",
    "import numpy as np\n",
    "import seaborn as sns\n",
    "import matplotlib.pyplot as plt\n",
    "from sklearn.model_selection import train_test_split,cross_val_score,GridSearchCV\n",
    "from sklearn.linear_model import LogisticRegression,RidgeClassifier\n",
    "from sklearn.naive_bayes import GaussianNB\n",
    "from sklearn.preprocessing import StandardScaler\n",
    "from sklearn.tree import DecisionTreeClassifier\n",
    "from sklearn.ensemble import RandomForestClassifier\n",
    "from sklearn.svm import SVC\n",
    "from sklearn.neural_network import MLPClassifier\n",
    "%matplotlib inline"
   ]
  },
  {
   "cell_type": "code",
   "execution_count": 2,
   "metadata": {},
   "outputs": [],
   "source": [
    "rawdf=pd.read_pickle('bigtrainingdataset.pickle')\n",
    "df=rawdf.drop(['key','myteam','oppteam','gamedate','result'],axis=1)"
   ]
  },
  {
   "cell_type": "code",
   "execution_count": 3,
   "metadata": {},
   "outputs": [
    {
     "data": {
      "text/html": [
       "<div>\n",
       "<style scoped>\n",
       "    .dataframe tbody tr th:only-of-type {\n",
       "        vertical-align: middle;\n",
       "    }\n",
       "\n",
       "    .dataframe tbody tr th {\n",
       "        vertical-align: top;\n",
       "    }\n",
       "\n",
       "    .dataframe thead th {\n",
       "        text-align: right;\n",
       "    }\n",
       "</style>\n",
       "<table border=\"1\" class=\"dataframe\">\n",
       "  <thead>\n",
       "    <tr style=\"text-align: right;\">\n",
       "      <th></th>\n",
       "      <th>myteam_prvwins</th>\n",
       "      <th>oppteam_prvwins</th>\n",
       "      <th>homegame</th>\n",
       "      <th>myteam_scores</th>\n",
       "      <th>oppteam_scores</th>\n",
       "      <th>myteam_trnovr</th>\n",
       "      <th>oppteam_trnovr</th>\n",
       "      <th>myteam_top</th>\n",
       "      <th>oppteam_top</th>\n",
       "      <th>myteam_pyds</th>\n",
       "      <th>oppteam_pyds</th>\n",
       "      <th>myteam_ryds</th>\n",
       "      <th>oppteam_ryds</th>\n",
       "      <th>myteam_penyds</th>\n",
       "      <th>oppteam_penyds</th>\n",
       "      <th>myteam_ptyds</th>\n",
       "      <th>oppteam_ptyds</th>\n",
       "      <th>myteam_curscore</th>\n",
       "      <th>oppteam_curscore</th>\n",
       "    </tr>\n",
       "  </thead>\n",
       "  <tbody>\n",
       "    <tr>\n",
       "      <th>138</th>\n",
       "      <td>[0, 0, 0, 0]</td>\n",
       "      <td>[0, 1, 1, 1]</td>\n",
       "      <td>False</td>\n",
       "      <td>[17, 3, 14, 16]</td>\n",
       "      <td>[27, 19, 30, 23]</td>\n",
       "      <td>[2, 1, 2, 2]</td>\n",
       "      <td>[1, 0, 0, 3]</td>\n",
       "      <td>[26.5, 28.733333333333334, 35.083333333333336,...</td>\n",
       "      <td>[32.583333333333336, 32.71666666666667, 32.916...</td>\n",
       "      <td>[286, 258, 230, 150]</td>\n",
       "      <td>[408, 330, 246, 241]</td>\n",
       "      <td>[54, 7, 126, 182]</td>\n",
       "      <td>[46, 123, 146, 45]</td>\n",
       "      <td>[57, 51, 82, 67]</td>\n",
       "      <td>[53, 15, 40, 25]</td>\n",
       "      <td>[344, 331, 234, 259]</td>\n",
       "      <td>[140, 80, 52, 211]</td>\n",
       "      <td>19</td>\n",
       "      <td>23</td>\n",
       "    </tr>\n",
       "    <tr>\n",
       "      <th>140</th>\n",
       "      <td>[0, 0, 1, 1]</td>\n",
       "      <td>[0, 1, 0, 0]</td>\n",
       "      <td>True</td>\n",
       "      <td>[22, 20, 22, 13]</td>\n",
       "      <td>[13, 31, 28, 23]</td>\n",
       "      <td>[2, 4, 3, 3]</td>\n",
       "      <td>[4, 1, 1, 1]</td>\n",
       "      <td>[32.333333333333336, 25.683333333333334, 28.93...</td>\n",
       "      <td>[34.31666666666667, 22.183333333333334, 35.45,...</td>\n",
       "      <td>[204, 294, 160, 240]</td>\n",
       "      <td>[265, 273, 299, 399]</td>\n",
       "      <td>[30, 109, 90, 56]</td>\n",
       "      <td>[27, 18, 64, 58]</td>\n",
       "      <td>[22, 38, 30, 90]</td>\n",
       "      <td>[55, 101, 46, 55]</td>\n",
       "      <td>[197, 218, 199, 320]</td>\n",
       "      <td>[183, 192, 99, 137]</td>\n",
       "      <td>27</td>\n",
       "      <td>13</td>\n",
       "    </tr>\n",
       "  </tbody>\n",
       "</table>\n",
       "</div>"
      ],
      "text/plain": [
       "    myteam_prvwins oppteam_prvwins  homegame     myteam_scores  \\\n",
       "138   [0, 0, 0, 0]    [0, 1, 1, 1]     False   [17, 3, 14, 16]   \n",
       "140   [0, 0, 1, 1]    [0, 1, 0, 0]      True  [22, 20, 22, 13]   \n",
       "\n",
       "       oppteam_scores myteam_trnovr oppteam_trnovr  \\\n",
       "138  [27, 19, 30, 23]  [2, 1, 2, 2]   [1, 0, 0, 3]   \n",
       "140  [13, 31, 28, 23]  [2, 4, 3, 3]   [4, 1, 1, 1]   \n",
       "\n",
       "                                            myteam_top  \\\n",
       "138  [26.5, 28.733333333333334, 35.083333333333336,...   \n",
       "140  [32.333333333333336, 25.683333333333334, 28.93...   \n",
       "\n",
       "                                           oppteam_top           myteam_pyds  \\\n",
       "138  [32.583333333333336, 32.71666666666667, 32.916...  [286, 258, 230, 150]   \n",
       "140  [34.31666666666667, 22.183333333333334, 35.45,...  [204, 294, 160, 240]   \n",
       "\n",
       "             oppteam_pyds        myteam_ryds        oppteam_ryds  \\\n",
       "138  [408, 330, 246, 241]  [54, 7, 126, 182]  [46, 123, 146, 45]   \n",
       "140  [265, 273, 299, 399]  [30, 109, 90, 56]    [27, 18, 64, 58]   \n",
       "\n",
       "        myteam_penyds     oppteam_penyds          myteam_ptyds  \\\n",
       "138  [57, 51, 82, 67]   [53, 15, 40, 25]  [344, 331, 234, 259]   \n",
       "140  [22, 38, 30, 90]  [55, 101, 46, 55]  [197, 218, 199, 320]   \n",
       "\n",
       "           oppteam_ptyds  myteam_curscore  oppteam_curscore  \n",
       "138   [140, 80, 52, 211]               19                23  \n",
       "140  [183, 192, 99, 137]               27                13  "
      ]
     },
     "execution_count": 3,
     "metadata": {},
     "output_type": "execute_result"
    }
   ],
   "source": [
    "df.head(2)"
   ]
  },
  {
   "cell_type": "code",
   "execution_count": 4,
   "metadata": {},
   "outputs": [],
   "source": [
    "def GetAdjustedDF(df,adj_factor):\n",
    "    \n",
    "    def AdjustedStats (statlist,adj_factor) :\n",
    "        if len(statlist)==3:\n",
    "            return np.matmul(np.array(statlist),np.array([1+adj_factor,1,1-adj_factor]))\n",
    "        elif len(statlist)==4:\n",
    "            return np.matmul(np.array(statlist),np.array([1+adj_factor,1+adj_factor/2,1-adj_factor/2,1-adj_factor]))\n",
    "    \n",
    "    cols_to_transform=['myteam_prvwins', 'oppteam_prvwins','myteam_scores', 'oppteam_scores', 'myteam_trnovr', 'oppteam_trnovr',\n",
    "       'myteam_top', 'oppteam_top', 'myteam_pyds', 'oppteam_pyds',\n",
    "       'myteam_ryds', 'oppteam_ryds', 'myteam_penyds', 'oppteam_penyds',\n",
    "       'myteam_ptyds', 'oppteam_ptyds']\n",
    "\n",
    "    adjusteddf=df.copy()\n",
    "    for col in cols_to_transform:\n",
    "        adjusteddf[col]=df[col].apply(AdjustedStats,adj_factor=adj_factor)\n",
    "        \n",
    "    return adjusteddf"
   ]
  },
  {
   "cell_type": "code",
   "execution_count": 5,
   "metadata": {},
   "outputs": [],
   "source": [
    "def Get_traintest(df):\n",
    "    X,y=df.drop(['myteam_curscore','oppteam_curscore','myteam_penyds','oppteam_penyds',\n",
    "             'myteam_prvwins','oppteam_scores',\n",
    "#              'myteam_trnovr','oppteam_trnovr','myteam_top','oppteam_top'\n",
    "            ],axis=1),df[['myteam_curscore','oppteam_curscore']]\n",
    "    \n",
    "    X=pd.DataFrame(StandardScaler().fit_transform(X),columns=X.columns)\n",
    "    \n",
    "    X_train,X_test,y_train,y_test=train_test_split(X,y,test_size=0.35,shuffle=True)\n",
    "    return (X_train,X_test,y_train,y_test)"
   ]
  },
  {
   "cell_type": "code",
   "execution_count": 6,
   "metadata": {},
   "outputs": [
    {
     "name": "stderr",
     "output_type": "stream",
     "text": [
      "/Users/abhijitshingote/miniconda3/lib/python3.6/site-packages/sklearn/preprocessing/data.py:617: DataConversionWarning: Data with input dtype bool, float64 were all converted to float64 by StandardScaler.\n",
      "  return self.partial_fit(X, y)\n",
      "/Users/abhijitshingote/miniconda3/lib/python3.6/site-packages/sklearn/base.py:462: DataConversionWarning: Data with input dtype bool, float64 were all converted to float64 by StandardScaler.\n",
      "  return self.fit(X, **fit_params).transform(X)\n"
     ]
    }
   ],
   "source": [
    "X_train,X_test,y_train,y_test=Get_traintest(GetAdjustedDF(df,adj_factor=1))"
   ]
  },
  {
   "cell_type": "code",
   "execution_count": 7,
   "metadata": {},
   "outputs": [
    {
     "name": "stderr",
     "output_type": "stream",
     "text": [
      "/Users/abhijitshingote/miniconda3/lib/python3.6/site-packages/sklearn/linear_model/base.py:485: RuntimeWarning: internal gelsd driver lwork query error, required iwork dimension not returned. This is likely the result of LAPACK bug 0038, fixed in LAPACK 3.2.2 (released July 21, 2010). Falling back to 'gelss' driver.\n",
      "  linalg.lstsq(X, y)\n"
     ]
    },
    {
     "data": {
      "text/plain": [
       "array([[20.27054895, 20.94544383],\n",
       "       [23.65382937, 23.35587179],\n",
       "       [18.52284581, 25.90826208],\n",
       "       ...,\n",
       "       [24.53815165, 18.57424098],\n",
       "       [22.293438  , 26.64042465],\n",
       "       [17.52083044, 25.11723299]])"
      ]
     },
     "execution_count": 7,
     "metadata": {},
     "output_type": "execute_result"
    }
   ],
   "source": [
    "from sklearn.linear_model import LinearRegression\n",
    "regmod=LinearRegression()\n",
    "regmod.fit(X_train,y_train)\n",
    "regmod.predict(X_train)"
   ]
  },
  {
   "cell_type": "code",
   "execution_count": 8,
   "metadata": {},
   "outputs": [],
   "source": [
    "#  Train Test Ready above... Training to follow"
   ]
  },
  {
   "cell_type": "code",
   "execution_count": 9,
   "metadata": {},
   "outputs": [],
   "source": [
    "mydictofmodels=[\n",
    "    {\n",
    "        'estimator':LogisticRegression(),\n",
    "        'name':'LogisticRegression',\n",
    "        'parameters':{\n",
    "            'solver':['lbfgs','liblinear'],\n",
    "            'C':[1.0,0.8,0.5,0.3]\n",
    "        }\n",
    "    },\n",
    "        {\n",
    "        'estimator':RidgeClassifier(),\n",
    "        'name':'Ridge Classifier',\n",
    "        'parameters':{\n",
    "            'alpha':[1.0,2.0,10.0,0.5],\n",
    "            'solver' : ['auto', 'svd', 'cholesky', 'lsqr', 'sparse_cg', 'sag']\n",
    "        }\n",
    "    },\n",
    "        {\n",
    "        'estimator':GaussianNB(),\n",
    "        'name':'Gaussian Naive Bayes',\n",
    "        'parameters':{\n",
    "#             'solver':['lbfgs','linear']\n",
    "        }\n",
    "    },\n",
    "            {\n",
    "        'estimator':DecisionTreeClassifier(),\n",
    "        'name':'Decision Tree',\n",
    "        'parameters':{\n",
    "            'min_samples_split':[2,5,10,20,40],\n",
    "            'min_samples_leaf' :[20,40,60,100],\n",
    "            'max_depth':[3,5,10,25]\n",
    "        }\n",
    "    },\n",
    "            {\n",
    "        'estimator':RandomForestClassifier(),\n",
    "        'name':'Random Forest',\n",
    "        'parameters':{\n",
    "            'min_samples_split':[2,5,10,20,40],\n",
    "            'min_samples_leaf' :[20,40,60,100],\n",
    "            'n_estimators':[100]\n",
    "        }\n",
    "    },\n",
    "    {\n",
    "        'estimator':SVC(),\n",
    "        'name':'SVC',\n",
    "        'parameters':{\n",
    "            'gamma':['auto','scale']\n",
    "        }\n",
    "    }\n",
    "    \n",
    "]"
   ]
  },
  {
   "cell_type": "code",
   "execution_count": 10,
   "metadata": {},
   "outputs": [
    {
     "name": "stderr",
     "output_type": "stream",
     "text": [
      "/Users/abhijitshingote/miniconda3/lib/python3.6/site-packages/sklearn/preprocessing/data.py:617: DataConversionWarning: Data with input dtype bool, float64 were all converted to float64 by StandardScaler.\n",
      "  return self.partial_fit(X, y)\n",
      "/Users/abhijitshingote/miniconda3/lib/python3.6/site-packages/sklearn/base.py:462: DataConversionWarning: Data with input dtype bool, float64 were all converted to float64 by StandardScaler.\n",
      "  return self.fit(X, **fit_params).transform(X)\n"
     ]
    },
    {
     "ename": "ValueError",
     "evalue": "Found input variables with inconsistent numbers of samples: [878, 1756]",
     "output_type": "error",
     "traceback": [
      "\u001b[0;31m---------------------------------------------------------------------------\u001b[0m",
      "\u001b[0;31mValueError\u001b[0m                                Traceback (most recent call last)",
      "\u001b[0;32m<ipython-input-10-25fec23f3788>\u001b[0m in \u001b[0;36m<module>\u001b[0;34m()\u001b[0m\n\u001b[1;32m      9\u001b[0m     \u001b[0;32mfor\u001b[0m \u001b[0mmodel\u001b[0m \u001b[0;32min\u001b[0m \u001b[0mmydictofmodels\u001b[0m\u001b[0;34m:\u001b[0m\u001b[0;34m\u001b[0m\u001b[0m\n\u001b[1;32m     10\u001b[0m         \u001b[0mgsmodel\u001b[0m\u001b[0;34m=\u001b[0m\u001b[0mGridSearchCV\u001b[0m\u001b[0;34m(\u001b[0m\u001b[0mmodel\u001b[0m\u001b[0;34m[\u001b[0m\u001b[0;34m'estimator'\u001b[0m\u001b[0;34m]\u001b[0m\u001b[0;34m,\u001b[0m\u001b[0mparam_grid\u001b[0m\u001b[0;34m=\u001b[0m\u001b[0mmodel\u001b[0m\u001b[0;34m[\u001b[0m\u001b[0;34m'parameters'\u001b[0m\u001b[0;34m]\u001b[0m\u001b[0;34m,\u001b[0m\u001b[0mcv\u001b[0m\u001b[0;34m=\u001b[0m\u001b[0;36m5\u001b[0m\u001b[0;34m,\u001b[0m\u001b[0mverbose\u001b[0m\u001b[0;34m=\u001b[0m\u001b[0;32mTrue\u001b[0m\u001b[0;34m)\u001b[0m\u001b[0;34m\u001b[0m\u001b[0m\n\u001b[0;32m---> 11\u001b[0;31m         \u001b[0mgsmodel\u001b[0m\u001b[0;34m.\u001b[0m\u001b[0mfit\u001b[0m\u001b[0;34m(\u001b[0m\u001b[0mX_train\u001b[0m\u001b[0;34m,\u001b[0m\u001b[0mnp\u001b[0m\u001b[0;34m.\u001b[0m\u001b[0marray\u001b[0m\u001b[0;34m(\u001b[0m\u001b[0my_train\u001b[0m\u001b[0;34m)\u001b[0m\u001b[0;34m.\u001b[0m\u001b[0mravel\u001b[0m\u001b[0;34m(\u001b[0m\u001b[0;34m)\u001b[0m\u001b[0;34m)\u001b[0m\u001b[0;34m\u001b[0m\u001b[0m\n\u001b[0m\u001b[1;32m     12\u001b[0m         \u001b[0mmodelnames\u001b[0m\u001b[0;34m.\u001b[0m\u001b[0mappend\u001b[0m\u001b[0;34m(\u001b[0m\u001b[0mmodel\u001b[0m\u001b[0;34m[\u001b[0m\u001b[0;34m'name'\u001b[0m\u001b[0;34m]\u001b[0m\u001b[0;34m)\u001b[0m\u001b[0;34m\u001b[0m\u001b[0m\n\u001b[1;32m     13\u001b[0m         \u001b[0mmodelscores\u001b[0m\u001b[0;34m.\u001b[0m\u001b[0mappend\u001b[0m\u001b[0;34m(\u001b[0m\u001b[0mgsmodel\u001b[0m\u001b[0;34m.\u001b[0m\u001b[0mscore\u001b[0m\u001b[0;34m(\u001b[0m\u001b[0mX_test\u001b[0m\u001b[0;34m,\u001b[0m\u001b[0my_test\u001b[0m\u001b[0;34m)\u001b[0m\u001b[0;34m)\u001b[0m\u001b[0;34m\u001b[0m\u001b[0m\n",
      "\u001b[0;32m~/miniconda3/lib/python3.6/site-packages/sklearn/model_selection/_search.py\u001b[0m in \u001b[0;36mfit\u001b[0;34m(self, X, y, groups, **fit_params)\u001b[0m\n\u001b[1;32m    672\u001b[0m             \u001b[0mrefit_metric\u001b[0m \u001b[0;34m=\u001b[0m \u001b[0;34m'score'\u001b[0m\u001b[0;34m\u001b[0m\u001b[0m\n\u001b[1;32m    673\u001b[0m \u001b[0;34m\u001b[0m\u001b[0m\n\u001b[0;32m--> 674\u001b[0;31m         \u001b[0mX\u001b[0m\u001b[0;34m,\u001b[0m \u001b[0my\u001b[0m\u001b[0;34m,\u001b[0m \u001b[0mgroups\u001b[0m \u001b[0;34m=\u001b[0m \u001b[0mindexable\u001b[0m\u001b[0;34m(\u001b[0m\u001b[0mX\u001b[0m\u001b[0;34m,\u001b[0m \u001b[0my\u001b[0m\u001b[0;34m,\u001b[0m \u001b[0mgroups\u001b[0m\u001b[0;34m)\u001b[0m\u001b[0;34m\u001b[0m\u001b[0m\n\u001b[0m\u001b[1;32m    675\u001b[0m         \u001b[0mn_splits\u001b[0m \u001b[0;34m=\u001b[0m \u001b[0mcv\u001b[0m\u001b[0;34m.\u001b[0m\u001b[0mget_n_splits\u001b[0m\u001b[0;34m(\u001b[0m\u001b[0mX\u001b[0m\u001b[0;34m,\u001b[0m \u001b[0my\u001b[0m\u001b[0;34m,\u001b[0m \u001b[0mgroups\u001b[0m\u001b[0;34m)\u001b[0m\u001b[0;34m\u001b[0m\u001b[0m\n\u001b[1;32m    676\u001b[0m \u001b[0;34m\u001b[0m\u001b[0m\n",
      "\u001b[0;32m~/miniconda3/lib/python3.6/site-packages/sklearn/utils/validation.py\u001b[0m in \u001b[0;36mindexable\u001b[0;34m(*iterables)\u001b[0m\n\u001b[1;32m    253\u001b[0m         \u001b[0;32melse\u001b[0m\u001b[0;34m:\u001b[0m\u001b[0;34m\u001b[0m\u001b[0m\n\u001b[1;32m    254\u001b[0m             \u001b[0mresult\u001b[0m\u001b[0;34m.\u001b[0m\u001b[0mappend\u001b[0m\u001b[0;34m(\u001b[0m\u001b[0mnp\u001b[0m\u001b[0;34m.\u001b[0m\u001b[0marray\u001b[0m\u001b[0;34m(\u001b[0m\u001b[0mX\u001b[0m\u001b[0;34m)\u001b[0m\u001b[0;34m)\u001b[0m\u001b[0;34m\u001b[0m\u001b[0m\n\u001b[0;32m--> 255\u001b[0;31m     \u001b[0mcheck_consistent_length\u001b[0m\u001b[0;34m(\u001b[0m\u001b[0;34m*\u001b[0m\u001b[0mresult\u001b[0m\u001b[0;34m)\u001b[0m\u001b[0;34m\u001b[0m\u001b[0m\n\u001b[0m\u001b[1;32m    256\u001b[0m     \u001b[0;32mreturn\u001b[0m \u001b[0mresult\u001b[0m\u001b[0;34m\u001b[0m\u001b[0m\n\u001b[1;32m    257\u001b[0m \u001b[0;34m\u001b[0m\u001b[0m\n",
      "\u001b[0;32m~/miniconda3/lib/python3.6/site-packages/sklearn/utils/validation.py\u001b[0m in \u001b[0;36mcheck_consistent_length\u001b[0;34m(*arrays)\u001b[0m\n\u001b[1;32m    228\u001b[0m     \u001b[0;32mif\u001b[0m \u001b[0mlen\u001b[0m\u001b[0;34m(\u001b[0m\u001b[0muniques\u001b[0m\u001b[0;34m)\u001b[0m \u001b[0;34m>\u001b[0m \u001b[0;36m1\u001b[0m\u001b[0;34m:\u001b[0m\u001b[0;34m\u001b[0m\u001b[0m\n\u001b[1;32m    229\u001b[0m         raise ValueError(\"Found input variables with inconsistent numbers of\"\n\u001b[0;32m--> 230\u001b[0;31m                          \" samples: %r\" % [int(l) for l in lengths])\n\u001b[0m\u001b[1;32m    231\u001b[0m \u001b[0;34m\u001b[0m\u001b[0m\n\u001b[1;32m    232\u001b[0m \u001b[0;34m\u001b[0m\u001b[0m\n",
      "\u001b[0;31mValueError\u001b[0m: Found input variables with inconsistent numbers of samples: [878, 1756]"
     ]
    }
   ],
   "source": [
    "modelnames=[]\n",
    "modelscores=[]\n",
    "modelbestparams=[]\n",
    "adj_factor_list=[]\n",
    "\n",
    "for adj_factor in [0,0.1,0.2,0.3,0.4,0.5]:\n",
    "    adjdf=GetAdjustedDF(df=df,adj_factor=adj_factor)\n",
    "    X_train,X_test,y_train,y_test=Get_traintest(adjdf)\n",
    "    for model in mydictofmodels:\n",
    "        gsmodel=GridSearchCV(model['estimator'],param_grid=model['parameters'],cv=5,verbose=True)\n",
    "        gsmodel.fit(X_train,np.array(y_train).ravel())\n",
    "        modelnames.append(model['name'])\n",
    "        modelscores.append(gsmodel.score(X_test,y_test))\n",
    "        modelbestparams.append(gsmodel.best_params_)\n",
    "        adj_factor_list.append(adj_factor)\n"
   ]
  },
  {
   "cell_type": "code",
   "execution_count": null,
   "metadata": {},
   "outputs": [],
   "source": [
    "resultsdf=pd.DataFrame({'modelname':modelnames,\n",
    "              'scores':modelscores,\n",
    "              'bestparams':modelbestparams,\n",
    "              'adj_factor':adj_factor_list})\n",
    "resultsdf.sort_values(['scores'],ascending=False).head(10)"
   ]
  },
  {
   "cell_type": "code",
   "execution_count": null,
   "metadata": {},
   "outputs": [],
   "source": [
    "# mlpmodel=MLPClassifier(solver='adam', alpha=1e-5,\n",
    "#                        hidden_layer_sizes=(5,10,5), early_stopping=False,random_state=1,max_iter=1000,verbose=True,learning_rate_init=0.001)\n",
    "# mlpmodel.fit(X_train,np.array(y_train).ravel())\n",
    "# mlpmodel.score(X_train,y_train),mlpmodel.score(X_test,y_test)"
   ]
  },
  {
   "cell_type": "code",
   "execution_count": null,
   "metadata": {},
   "outputs": [],
   "source": []
  }
 ],
 "metadata": {
  "kernelspec": {
   "display_name": "Python 3",
   "language": "python",
   "name": "python3"
  },
  "language_info": {
   "codemirror_mode": {
    "name": "ipython",
    "version": 3
   },
   "file_extension": ".py",
   "mimetype": "text/x-python",
   "name": "python",
   "nbconvert_exporter": "python",
   "pygments_lexer": "ipython3",
   "version": "3.6.5"
  }
 },
 "nbformat": 4,
 "nbformat_minor": 2
}
